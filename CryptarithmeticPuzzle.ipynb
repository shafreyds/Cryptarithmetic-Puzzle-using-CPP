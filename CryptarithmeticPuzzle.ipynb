{
  "nbformat": 4,
  "nbformat_minor": 0,
  "metadata": {
    "colab": {
      "provenance": []
    },
    "kernelspec": {
      "name": "python3",
      "display_name": "Python 3"
    },
    "language_info": {
      "name": "python"
    }
  },
  "cells": [
    {
      "cell_type": "code",
      "execution_count": null,
      "metadata": {
        "id": "VO0sVSwq7BbO"
      },
      "outputs": [],
      "source": [
        "import itertools\n",
        "\n",
        "\n",
        "def get_value(word, substitution):\n",
        "    s = 0\n",
        "    factor = 1\n",
        "    for letter in reversed(word):\n",
        "        s += factor * substitution[letter]\n",
        "        factor *= 10\n",
        "    return s\n",
        "\n",
        "\n",
        "def solve2(equation):\n",
        "    # split equation in left and right\n",
        "    left, right = equation.lower().replace(' ', '').split('=')\n",
        "    # split words in left part\n",
        "    left = left.split('+')\n",
        "    # create list of used letters\n",
        "    letters = set(right)\n",
        "    for word in left:\n",
        "        for letter in word:\n",
        "            letters.add(letter)\n",
        "    letters = list(letters)\n",
        "\n",
        "    digits = range(10)\n",
        "    for perm in itertools.permutations(digits, len(letters)):\n",
        "        sol = dict(zip(letters, perm))\n",
        "\n",
        "        if sum(get_value(word, sol) for word in left) == get_value(right, sol):\n",
        "            print(' + '.join(str(get_value(word, sol)) for word in left) + \" = {} (mapping: {})\".format(get_value(right, sol), sol))\n",
        "\n",
        "if __name__ == '__main__':\n",
        "    solve2('SEND + MORE = MONEY')"
      ]
    }
  ]
}